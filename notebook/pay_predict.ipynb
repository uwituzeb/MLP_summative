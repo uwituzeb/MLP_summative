{
 "cells": [
  {
   "cell_type": "code",
   "execution_count": 28,
   "metadata": {},
   "outputs": [],
   "source": [
    "# import necessary libraries\n",
    "import pandas as pd\n",
    "import numpy as np\n",
    "import tensorflow as tf\n",
    "from sklearn.model_selection import train_test_split\n",
    "from sklearn.preprocessing import StandardScaler\n",
    "import matplotlib.pyplot as plt\n",
    "import seaborn as sns"
   ]
  },
  {
   "cell_type": "code",
   "execution_count": 29,
   "metadata": {},
   "outputs": [
    {
     "name": "stdout",
     "output_type": "stream",
     "text": [
      "Columns: ['CandidateID', 'Age', 'Education', 'GPA', 'Interest', 'Favorite_Subject', 'Extracurriculars', 'Personality_Trait', 'Recommended_Career']\n",
      "Unique Education values: ['O-Level' 'A-Level']\n"
     ]
    }
   ],
   "source": [
    "# load the dataset\n",
    "df = pd.read_csv('../data/train/high_school_career_recommendation_dataset.csv')\n",
    "df.head()\n",
    "print(\"Columns:\", df.columns.tolist())\n",
    "print(\"Unique Education values:\", df['Education'].unique())\n"
   ]
  },
  {
   "cell_type": "code",
   "execution_count": 30,
   "metadata": {},
   "outputs": [
    {
     "name": "stdout",
     "output_type": "stream",
     "text": [
      "Training data shape (600, 51)\n",
      "Validation data shape (200, 51)\n",
      "Test data shape (200, 51)\n"
     ]
    }
   ],
   "source": [
    "from sklearn.model_selection import train_test_split\n",
    "from sklearn.preprocessing import StandardScaler, LabelEncoder\n",
    "import joblib\n",
    "\n",
    "# Split data into features and target\n",
    "X = df.drop('Recommended_Career', axis=1)\n",
    "y = df['Recommended_Career']\n",
    "\n",
    "# One-hot encoding for categorical features\n",
    "X = pd.get_dummies(X, columns=['Education', 'Interest', 'Favorite_Subject',\n",
    "                       'Extracurriculars', 'Personality_Trait'])\n",
    "\n",
    "# Splitting into train and test\n",
    "x_train, x_temp, y_train, y_temp = train_test_split(X, y, test_size=0.4, random_state=42)\n",
    "\n",
    "#Second split to get validation and test data\n",
    "x_val, x_test, y_val, y_test = train_test_split(x_temp, y_temp, test_size=0.5, random_state=42)\n",
    "\n",
    "# Scaling features\n",
    "scaler = StandardScaler()\n",
    "x_train_scaled = scaler.fit_transform(x_train)\n",
    "x_val_scaled = scaler.transform(x_val)\n",
    "x_test_scaled = scaler.transform(x_test)\n",
    "\n",
    "label_encoder = LabelEncoder()\n",
    "y_train_encoded = label_encoder.fit_transform(y_train)\n",
    "y_val_encoded = label_encoder.transform(y_val)\n",
    "y_test_encoded = label_encoder.transform(y_test)\n",
    "\n",
    "joblib.dump(scaler, '../models/scaler.pkl')\n",
    "joblib.dump(label_encoder, '../models/label_encoder.pkl')\n",
    "\n",
    "print('Training data shape', x_train_scaled.shape)\n",
    "print('Validation data shape', x_val_scaled.shape)\n",
    "print('Test data shape', x_test_scaled.shape)"
   ]
  },
  {
   "cell_type": "code",
   "execution_count": 31,
   "metadata": {},
   "outputs": [
    {
     "name": "stderr",
     "output_type": "stream",
     "text": [
      "c:\\Users\\HOSA.LTD\\MLP_summative\\myenv\\Lib\\site-packages\\sklearn\\linear_model\\_logistic.py:1247: FutureWarning: 'multi_class' was deprecated in version 1.5 and will be removed in 1.7. From then on, it will always use 'multinomial'. Leave it to its default value to avoid this warning.\n",
      "  warnings.warn(\n"
     ]
    },
    {
     "name": "stdout",
     "output_type": "stream",
     "text": [
      "                         precision    recall  f1-score   support\n",
      "\n",
      "             Accountant       0.86      1.00      0.92         6\n",
      "              Architect       0.90      0.84      0.87        31\n",
      "                 Artist       0.71      0.85      0.77        20\n",
      "       Business Manager       0.94      0.94      0.94        31\n",
      "                   Chef       1.00      1.00      1.00         1\n",
      "                 Doctor       0.76      0.87      0.81        15\n",
      "               Engineer       0.82      1.00      0.90        18\n",
      "Environmental Scientist       0.86      0.86      0.86        21\n",
      "      Financial Analyst       0.91      0.91      0.91        33\n",
      "       Graphic Designer       0.96      0.90      0.93        29\n",
      "             Journalist       0.82      1.00      0.90        36\n",
      "                 Lawyer       0.86      1.00      0.93        25\n",
      "   Marketing Specialist       0.95      1.00      0.98        40\n",
      "               Musician       1.00      1.00      1.00        24\n",
      "                  Nurse       0.86      0.92      0.89        13\n",
      "           Psychologist       0.90      1.00      0.95        19\n",
      "     Research Scientist       0.96      0.87      0.91        60\n",
      "      Software Engineer       0.84      0.86      0.85        36\n",
      "                Teacher       1.00      0.85      0.92       131\n",
      "           Veterinarian       0.83      0.91      0.87        11\n",
      "\n",
      "               accuracy                           0.91       600\n",
      "              macro avg       0.89      0.93      0.90       600\n",
      "           weighted avg       0.91      0.91      0.91       600\n",
      "\n",
      "                         precision    recall  f1-score   support\n",
      "\n",
      "             Accountant       0.50      0.50      0.50         4\n",
      "              Architect       0.83      0.83      0.83         6\n",
      "                 Artist       0.50      0.50      0.50         4\n",
      "       Business Manager       0.75      0.63      0.69        19\n",
      "                   Chef       0.00      0.00      0.00         1\n",
      "                 Doctor       0.56      0.50      0.53        10\n",
      "               Engineer       0.50      0.43      0.46         7\n",
      "Environmental Scientist       0.55      0.67      0.60         9\n",
      "      Financial Analyst       0.62      0.83      0.71        12\n",
      "       Graphic Designer       0.71      0.83      0.77         6\n",
      "             Journalist       0.78      0.82      0.80        17\n",
      "                 Lawyer       0.75      0.50      0.60         6\n",
      "   Marketing Specialist       0.54      0.70      0.61        10\n",
      "               Musician       0.60      0.75      0.67         4\n",
      "                  Nurse       0.00      0.00      0.00         0\n",
      "           Psychologist       0.75      0.38      0.50        16\n",
      "     Research Scientist       0.85      0.77      0.81        22\n",
      "      Software Engineer       0.50      0.50      0.50         8\n",
      "                Teacher       0.73      0.77      0.75        35\n",
      "           Veterinarian       0.80      1.00      0.89         4\n",
      "\n",
      "               accuracy                           0.68       200\n",
      "              macro avg       0.59      0.60      0.59       200\n",
      "           weighted avg       0.69      0.68      0.67       200\n",
      "\n"
     ]
    },
    {
     "name": "stderr",
     "output_type": "stream",
     "text": [
      "c:\\Users\\HOSA.LTD\\MLP_summative\\myenv\\Lib\\site-packages\\sklearn\\metrics\\_classification.py:1565: UndefinedMetricWarning: Precision is ill-defined and being set to 0.0 in labels with no predicted samples. Use `zero_division` parameter to control this behavior.\n",
      "  _warn_prf(average, modifier, f\"{metric.capitalize()} is\", len(result))\n",
      "c:\\Users\\HOSA.LTD\\MLP_summative\\myenv\\Lib\\site-packages\\sklearn\\metrics\\_classification.py:1565: UndefinedMetricWarning: Recall is ill-defined and being set to 0.0 in labels with no true samples. Use `zero_division` parameter to control this behavior.\n",
      "  _warn_prf(average, modifier, f\"{metric.capitalize()} is\", len(result))\n",
      "c:\\Users\\HOSA.LTD\\MLP_summative\\myenv\\Lib\\site-packages\\sklearn\\metrics\\_classification.py:1565: UndefinedMetricWarning: Precision is ill-defined and being set to 0.0 in labels with no predicted samples. Use `zero_division` parameter to control this behavior.\n",
      "  _warn_prf(average, modifier, f\"{metric.capitalize()} is\", len(result))\n",
      "c:\\Users\\HOSA.LTD\\MLP_summative\\myenv\\Lib\\site-packages\\sklearn\\metrics\\_classification.py:1565: UndefinedMetricWarning: Recall is ill-defined and being set to 0.0 in labels with no true samples. Use `zero_division` parameter to control this behavior.\n",
      "  _warn_prf(average, modifier, f\"{metric.capitalize()} is\", len(result))\n",
      "c:\\Users\\HOSA.LTD\\MLP_summative\\myenv\\Lib\\site-packages\\sklearn\\metrics\\_classification.py:1565: UndefinedMetricWarning: Precision is ill-defined and being set to 0.0 in labels with no predicted samples. Use `zero_division` parameter to control this behavior.\n",
      "  _warn_prf(average, modifier, f\"{metric.capitalize()} is\", len(result))\n",
      "c:\\Users\\HOSA.LTD\\MLP_summative\\myenv\\Lib\\site-packages\\sklearn\\metrics\\_classification.py:1565: UndefinedMetricWarning: Recall is ill-defined and being set to 0.0 in labels with no true samples. Use `zero_division` parameter to control this behavior.\n",
      "  _warn_prf(average, modifier, f\"{metric.capitalize()} is\", len(result))\n"
     ]
    }
   ],
   "source": [
    "# logistic regression\n",
    "from sklearn.linear_model import LogisticRegression\n",
    "from sklearn.metrics import classification_report\n",
    "import joblib\n",
    "import os\n",
    "\n",
    "logistic_model = LogisticRegression(\n",
    "    multi_class='multinomial', #for multiclass classification\n",
    "    solver='lbfgs',\n",
    "    max_iter=1000,\n",
    "    random_state=42,\n",
    "    class_weight='balanced',\n",
    ")\n",
    "\n",
    "\n",
    "logistic_model.fit(x_train_scaled, y_train_encoded)\n",
    "joblib.dump(logistic_model, '../models/logistic_regression_model.pkl')\n",
    "joblib.dump(x_train.columns, '../models/scaler.pkl.columns')\n",
    "\n",
    "y_pred_train = logistic_model.predict(x_train_scaled)\n",
    "y_pred_test = logistic_model.predict(x_test_scaled)\n",
    "\n",
    "#Evaluate model\n",
    "print(classification_report(y_train_encoded, y_pred_train, target_names=label_encoder.classes_))\n",
    "print(classification_report(y_test_encoded, y_pred_test, target_names=label_encoder.classes_))"
   ]
  },
  {
   "cell_type": "code",
   "execution_count": 32,
   "metadata": {},
   "outputs": [],
   "source": [
    "def make_predictions(model_path, X):\n",
    "\n",
    "    # Load the model\n",
    "    model = joblib.load(model_path)\n",
    "    # Make predictions\n",
    "    predictions = model.predict(X)\n",
    "    # Convert probabilities to binary labels (0 or 1)\n",
    "\n",
    "    return predictions\n"
   ]
  },
  {
   "cell_type": "code",
   "execution_count": 33,
   "metadata": {},
   "outputs": [
    {
     "data": {
      "text/plain": [
       "array([12, 16,  2,  7, 16, 18, 16,  1, 10,  7, 12, 15, 18,  1,  5, 16, 18,\n",
       "       12,  3, 18, 18, 18, 13,  3, 17,  1,  8,  3, 18, 17,  9, 15, 18, 16,\n",
       "        6, 14, 10, 16, 18,  8, 15, 18, 13, 10,  7, 18,  0, 18, 17, 18, 18,\n",
       "        8, 16, 10, 18, 12,  7, 12, 10, 10, 16,  2, 18,  7,  8,  6,  1, 12,\n",
       "       18, 10, 18, 10,  5,  2, 16,  8,  3, 12, 16,  7,  3, 13, 15,  9,  8,\n",
       "       11, 18,  5, 17, 16,  1, 10,  3,  3,  3,  3, 12,  0, 16, 12,  6, 15,\n",
       "       10,  7,  8,  5, 17, 18,  7,  5,  9, 18, 19,  8,  7, 18, 18, 16,  6,\n",
       "       18, 16, 12,  8,  3, 18, 17, 12, 16,  7, 18, 10,  8,  3,  3,  1,  9,\n",
       "       18,  8, 14, 14, 18, 15, 16,  2,  3, 10,  6,  5,  3, 16,  9,  5, 18,\n",
       "        8, 18, 11,  3, 10, 19, 11, 16, 18, 15, 19, 11, 19,  9,  8, 10, 12,\n",
       "       15,  7, 16, 10, 13, 17, 19,  8,  9, 18, 18, 13,  8,  6, 10, 16,  0,\n",
       "        5, 10, 18, 17, 18,  3, 10,  5, 12, 18, 18,  8,  0])"
      ]
     },
     "execution_count": 33,
     "metadata": {},
     "output_type": "execute_result"
    }
   ],
   "source": [
    "model_path = '../models/logistic_regression_model.pkl'\n",
    "make_predictions(model_path, x_test_scaled)"
   ]
  }
 ],
 "metadata": {
  "kernelspec": {
   "display_name": "myenv",
   "language": "python",
   "name": "python3"
  },
  "language_info": {
   "codemirror_mode": {
    "name": "ipython",
    "version": 3
   },
   "file_extension": ".py",
   "mimetype": "text/x-python",
   "name": "python",
   "nbconvert_exporter": "python",
   "pygments_lexer": "ipython3",
   "version": "3.12.2"
  }
 },
 "nbformat": 4,
 "nbformat_minor": 2
}
